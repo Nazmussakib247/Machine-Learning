{
 "cells": [
  {
   "cell_type": "markdown",
   "id": "9681ae38",
   "metadata": {},
   "source": [
    "Multiple Regression"
   ]
  },
  {
   "cell_type": "markdown",
   "id": "e600ea2d",
   "metadata": {},
   "source": [
    "Predicting CO2 emission values based on car's weight and volume"
   ]
  },
  {
   "cell_type": "code",
   "execution_count": 9,
   "id": "ca6968a0",
   "metadata": {},
   "outputs": [
    {
     "name": "stdout",
     "output_type": "stream",
     "text": [
      "[106.50450012]\n"
     ]
    },
    {
     "name": "stderr",
     "output_type": "stream",
     "text": [
      "c:\\Users\\Nazmus Sakib\\AppData\\Local\\Programs\\Python\\Python313\\Lib\\site-packages\\sklearn\\utils\\validation.py:2739: UserWarning: X does not have valid feature names, but LinearRegression was fitted with feature names\n",
      "  warnings.warn(\n"
     ]
    }
   ],
   "source": [
    "import pandas\n",
    "from sklearn import linear_model\n",
    "\n",
    "df = pandas.read_csv(\"data.csv\") #Local data file saved as data.csv\n",
    "\n",
    "X = df[['Weight', 'Volume']] #Independent values usally represnts with upper case\n",
    "y = df['CO2'] # Dependent values usally reperesent with lower case\n",
    "regr = linear_model.LinearRegression()\n",
    "regr.fit(X, y)\n",
    "\n",
    "##predict the CO2 emission of a car where the weight is 2000kg, and the volume is 1500cm3\n",
    "predictedCO2 = regr.predict([[2000, 1500]])\n",
    "print(predictedCO2)"
   ]
  },
  {
   "cell_type": "markdown",
   "id": "6779a7c5",
   "metadata": {},
   "source": [
    "Coefficient"
   ]
  },
  {
   "cell_type": "code",
   "execution_count": 10,
   "id": "5ab138c8",
   "metadata": {},
   "outputs": [
    {
     "name": "stdout",
     "output_type": "stream",
     "text": [
      "[0.00755095 0.00780526]\n"
     ]
    }
   ],
   "source": [
    "import pandas\n",
    "from sklearn import linear_model\n",
    "df = pandas.read_csv(\"data.csv\")\n",
    "\n",
    "X = df[['Weight','Volume']]\n",
    "y = df[\"CO2\"]\n",
    "regr = linear_model.LinearRegression()\n",
    "regr.fit(X, y)\n",
    "print(regr.coef_)"
   ]
  }
 ],
 "metadata": {
  "kernelspec": {
   "display_name": "Python 3",
   "language": "python",
   "name": "python3"
  },
  "language_info": {
   "codemirror_mode": {
    "name": "ipython",
    "version": 3
   },
   "file_extension": ".py",
   "mimetype": "text/x-python",
   "name": "python",
   "nbconvert_exporter": "python",
   "pygments_lexer": "ipython3",
   "version": "3.13.2"
  }
 },
 "nbformat": 4,
 "nbformat_minor": 5
}
