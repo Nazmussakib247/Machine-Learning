{
 "cells": [
  {
   "cell_type": "markdown",
   "id": "21fed6b9",
   "metadata": {},
   "source": [
    "**Visualizing Confusion Matrix for Binary Classification (Headless Mode Compatible)**"
   ]
  },
  {
   "cell_type": "code",
   "execution_count": 7,
   "id": "3b89d197",
   "metadata": {},
   "outputs": [
    {
     "name": "stderr",
     "output_type": "stream",
     "text": [
      "C:\\Users\\Nazmus Sakib\\AppData\\Local\\Temp\\ipykernel_17964\\2124158770.py:17: UserWarning: FigureCanvasAgg is non-interactive, and thus cannot be shown\n",
      "  plt.show()\n"
     ]
    }
   ],
   "source": [
    "# Making our compiler able to draw\n",
    "import sys\n",
    "import matplotlib\n",
    "matplotlib.use('Agg')\n",
    "\n",
    "import matplotlib.pyplot as plt\n",
    "import numpy\n",
    "from sklearn import metrics\n",
    "\n",
    "actual = numpy.random.binomial(1,.9,size = 1000)\n",
    "predicted = numpy.random.binomial(1,.9, size = 1000)\n",
    "\n",
    "confusion_matrix = metrics.confusion_matrix(actual, predicted)\n",
    "cm_display = metrics.ConfusionMatrixDisplay(confusion_matrix = confusion_matrix, display_labels = [0,1]) \n",
    "\n",
    "cm_display.plot()\n",
    "plt.show()\n",
    "\n",
    "plt.savefig(\"confusion_matrix.png\")\n",
    "sys.stdout.flush()"
   ]
  },
  {
   "cell_type": "markdown",
   "id": "986b0c61",
   "metadata": {},
   "source": [
    "**Accuracy**"
   ]
  },
  {
   "cell_type": "code",
   "execution_count": 8,
   "id": "598e43d9",
   "metadata": {},
   "outputs": [
    {
     "name": "stdout",
     "output_type": "stream",
     "text": [
      "0.826\n"
     ]
    }
   ],
   "source": [
    "import numpy\n",
    "from sklearn import metrics\n",
    "\n",
    "actual = numpy.random.binomial(1,.9,size = 1000)\n",
    "predicted = numpy.random.binomial(1,.9,size= 1000)\n",
    "\n",
    "accuracy = metrics.accuracy_score(actual,predicted)\n",
    "print(accuracy)"
   ]
  },
  {
   "cell_type": "markdown",
   "id": "353dd701",
   "metadata": {},
   "source": [
    "**Precision**"
   ]
  },
  {
   "cell_type": "code",
   "execution_count": 9,
   "id": "0d68fc25",
   "metadata": {},
   "outputs": [
    {
     "name": "stdout",
     "output_type": "stream",
     "text": [
      "0.9120879120879121\n"
     ]
    }
   ],
   "source": [
    "import numpy\n",
    "from sklearn import metrics\n",
    "actual = numpy.random.binomial(1,.9, size = 1000)\n",
    "predicted = numpy.random.binomial(1,.9, size= 1000)\n",
    "\n",
    "precision = metrics.precision_score(actual, predicted)\n",
    "print(precision)"
   ]
  },
  {
   "cell_type": "markdown",
   "id": "efba44e7",
   "metadata": {},
   "source": [
    "**Sensitivity(Recall)**"
   ]
  },
  {
   "cell_type": "code",
   "execution_count": 10,
   "id": "f1bb90fa",
   "metadata": {},
   "outputs": [
    {
     "name": "stdout",
     "output_type": "stream",
     "text": [
      "0.9052863436123348\n"
     ]
    }
   ],
   "source": [
    "import numpy\n",
    "from sklearn import metrics\n",
    "actual = numpy.random.binomial(1,.9, size = 1000)\n",
    "predicted = numpy.random.binomial(1,.9, size = 1000)\n",
    "Sensitivity_recall = metrics.recall_score(actual, predicted)\n",
    "print(Sensitivity_recall)"
   ]
  },
  {
   "cell_type": "markdown",
   "id": "84a40f65",
   "metadata": {},
   "source": [
    "**Specifity**"
   ]
  },
  {
   "cell_type": "code",
   "execution_count": 11,
   "id": "184ddcc1",
   "metadata": {},
   "outputs": [
    {
     "name": "stdout",
     "output_type": "stream",
     "text": [
      "0.08247422680412371\n"
     ]
    }
   ],
   "source": [
    "import numpy\n",
    "from sklearn import metrics\n",
    "\n",
    "actual = numpy.random.binomial(1,.9,size = 1000)\n",
    "predicted = numpy.random.binomial(1,.9,size = 1000)\n",
    "\n",
    "specifity = metrics.recall_score(actual, predicted, pos_label=0)\n",
    "print(specifity)"
   ]
  },
  {
   "cell_type": "markdown",
   "id": "de6061fd",
   "metadata": {},
   "source": [
    "**F-Score**"
   ]
  },
  {
   "cell_type": "code",
   "execution_count": 12,
   "id": "ab552742",
   "metadata": {},
   "outputs": [
    {
     "name": "stdout",
     "output_type": "stream",
     "text": [
      "0.9005586592178771\n"
     ]
    }
   ],
   "source": [
    "import numpy\n",
    "from sklearn import metrics\n",
    "\n",
    "actual = numpy.random.binomial(1,.9,size = 1000)\n",
    "predicted = numpy.random.binomial(1,.9,size = 1000)\n",
    "\n",
    "F1_Score = metrics.f1_score(actual, predicted)\n",
    "print(F1_Score)"
   ]
  },
  {
   "cell_type": "markdown",
   "id": "39d03b5c",
   "metadata": {},
   "source": [
    "**All Calculation in One**"
   ]
  },
  {
   "cell_type": "code",
   "execution_count": 13,
   "id": "736715d4",
   "metadata": {},
   "outputs": [
    {
     "name": "stdout",
     "output_type": "stream",
     "text": [
      "{'Accuracy': 0.826, 'Precision': 0.9159192825112108, 'Sensitivity_recall': 0.8919213973799127, 'Specificity': 0.10714285714285714, 'F1_score': 0.9037610619469026}\n"
     ]
    }
   ],
   "source": [
    "import numpy\n",
    "from sklearn import metrics\n",
    "\n",
    "actual = numpy.random.binomial(1,.9,size = 1000)\n",
    "predicted = numpy.random.binomial(1,.9,size = 1000)\n",
    "\n",
    "Accuracy = metrics.accuracy_score(actual, predicted)\n",
    "Precision = metrics.precision_score(actual, predicted)\n",
    "Sensitivity_recall = metrics.recall_score(actual, predicted)\n",
    "Specificity = metrics.recall_score(actual, predicted, pos_label=0)\n",
    "F1_score = metrics.f1_score(actual, predicted)\n",
    "\n",
    "#metrics:\n",
    "print({\"Accuracy\":Accuracy,\"Precision\":Precision,\"Sensitivity_recall\":Sensitivity_recall,\"Specificity\":Specificity,\"F1_score\":F1_score})\n",
    "\n"
   ]
  }
 ],
 "metadata": {
  "kernelspec": {
   "display_name": "Python 3",
   "language": "python",
   "name": "python3"
  },
  "language_info": {
   "codemirror_mode": {
    "name": "ipython",
    "version": 3
   },
   "file_extension": ".py",
   "mimetype": "text/x-python",
   "name": "python",
   "nbconvert_exporter": "python",
   "pygments_lexer": "ipython3",
   "version": "3.13.2"
  }
 },
 "nbformat": 4,
 "nbformat_minor": 5
}
